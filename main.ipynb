{
  "nbformat": 4,
  "nbformat_minor": 0,
  "metadata": {
    "colab": {
      "name": "Copy of thermal_recog.ipynb",
      "provenance": []
    },
    "kernelspec": {
      "name": "python3",
      "display_name": "Python 3"
    },
    "accelerator": "GPU"
  },
  "cells": [
    {
      "cell_type": "markdown",
      "metadata": {
        "id": "aYGDJt6n5Wep"
      },
      "source": [
        "Connect to Gdrive"
      ]
    },
    {
      "cell_type": "code",
      "metadata": {
        "id": "_X-4op02UQi8",
        "colab": {
          "base_uri": "https://localhost:8080/"
        },
        "outputId": "7079c14c-f6f8-41a7-89d4-6747bceccf74"
      },
      "source": [
        "from google.colab import drive\n",
        "drive.mount('/gdrive')\n",
        "%cd /gdrive"
      ],
      "execution_count": null,
      "outputs": [
        {
          "output_type": "stream",
          "text": [
            "Mounted at /gdrive\n",
            "/gdrive\n"
          ],
          "name": "stdout"
        }
      ]
    },
    {
      "cell_type": "markdown",
      "metadata": {
        "id": "OXzaVNKo5hRy"
      },
      "source": [
        "Load X numpy array ( images), and Y numpy array (labels)"
      ]
    },
    {
      "cell_type": "code",
      "metadata": {
        "id": "8jlyOnuuZLN2"
      },
      "source": [
        "import numpy as np\n",
        "X=np.load(\"Path to X.npy\")\n",
        "Y=np.load(\"Path to Y.npy\")"
      ],
      "execution_count": null,
      "outputs": []
    },
    {
      "cell_type": "markdown",
      "metadata": {
        "id": "w7kRJ3tO5Te1"
      },
      "source": [
        "Visualize an image sample"
      ]
    },
    {
      "cell_type": "code",
      "metadata": {
        "id": "8E_75eUTdIE9",
        "colab": {
          "base_uri": "https://localhost:8080/",
          "height": 283
        },
        "outputId": "c60c6ece-11e1-4434-ca3c-042bade94b0e"
      },
      "source": [
        "import cv2\n",
        "import numpy as np\n",
        "import matplotlib.pyplot as plt\n",
        "plt.imshow(X[2798,:,:,0])\n",
        "print(Y[2798])"
      ],
      "execution_count": null,
      "outputs": [
        {
          "output_type": "stream",
          "text": [
            "[8.]\n"
          ],
          "name": "stdout"
        },
        {
          "output_type": "display_data",
          "data": {
            "image/png": "[encoded data removed]",
            "text/plain": [
              "<Figure size 432x288 with 1 Axes>"
            ]
          },
          "metadata": {
            "tags": [],
            "needs_background": "light"
          }
        }
      ]
    },
    {
      "cell_type": "markdown",
      "metadata": {
        "id": "Ttymu_XJ5rUY"
      },
      "source": [
        "Create test (20%) and train dataset. "
      ]
    },
    {
      "cell_type": "code",
      "metadata": {
        "id": "IJJbb2GgeRc4",
        "colab": {
          "base_uri": "https://localhost:8080/"
        },
        "outputId": "5fc9b3a5-84ad-452e-bbe7-89048b5e389b"
      },
      "source": [
        "from sklearn.model_selection import train_test_split\n",
        "\n",
        "X_train, X_test, Y_train, Y_test = train_test_split(X, Y, test_size=0.2, random_state=42,stratify=Y)\n",
        "\n",
        "print(Y_test.shape)\n",
        "a=[0,0,0,0,0,0,0,0,0,0]\n",
        "for i in range(Y_test.shape[0]):\n",
        "  a[int(Y_test[i])]=a[int(Y_test[i])]+1\n",
        "print(a)"
      ],
      "execution_count": null,
      "outputs": [
        {
          "output_type": "stream",
          "text": [
            "(640, 1)\n",
            "[64, 64, 64, 64, 64, 64, 64, 64, 64, 64]\n"
          ],
          "name": "stdout"
        }
      ]
    },
    {
      "cell_type": "markdown",
      "metadata": {
        "id": "0QewaM5t54gw"
      },
      "source": [
        "Model Description"
      ]
    },
    {
      "cell_type": "code",
      "metadata": {
        "id": "rZs9BXvkOpAj"
      },
      "source": [
        "import tensorflow as tf\n",
        "from tensorflow import Tensor\n",
        "from tensorflow import keras\n",
        "from tensorflow.python.keras.layers import Input, Conv2D, ReLU, BatchNormalization,\\\n",
        "                                    Add, AveragePooling2D, Flatten, Dense\n",
        "from tensorflow.python.keras.models import Model\n",
        "\n",
        "initializer = tf.keras.initializers.HeNormal()\n",
        "\n",
        "def scheduler(epoch, lr):\n",
        "  if (epoch%8)==0:\n",
        "    return lr * tf.math.exp(-0.1)\n",
        "  else:\n",
        "    return lr\n",
        "\n",
        "def relu_bn(inputs: Tensor) -> Tensor:\n",
        "    relu = ReLU()(inputs)\n",
        "    bn = BatchNormalization()(relu)\n",
        "    return bn\n",
        "\n",
        "def relu_u(inputs: Tensor) -> Tensor:\n",
        "    relu = ReLU()(inputs)\n",
        "    #bn = BatchNormalization()(relu)\n",
        "    return relu\n",
        "\n",
        "def bottleneck(x: Tensor, kernels:int, dilation: int) -> Tensor:\n",
        "    \n",
        "   \n",
        "    y = Conv2D(kernel_size=1,\n",
        "               strides= 1,\n",
        "               filters=int(kernels/4),\n",
        "               padding=\"same\",kernel_initializer=initializer)(x)\n",
        "    y = relu_bn(y)\n",
        "    \n",
        "    y = Conv2D(kernel_size=3,\n",
        "               strides=1,\n",
        "               filters=int(kernels/4),\n",
        "               padding=\"same\",kernel_initializer=initializer)(y)\n",
        "    y = relu_bn(y)\n",
        "    \n",
        "    y = Conv2D(kernel_size=1,\n",
        "               strides= 1,\n",
        "               filters=kernels,\n",
        "               padding=\"same\",kernel_initializer=initializer)(y)\n",
        "    y = relu_bn(y)\n",
        "    \n",
        "    out = Add()([x, y])\n",
        "    \n",
        "    y1 = Conv2D(kernel_size=1,\n",
        "               strides= 1,\n",
        "               filters=int(kernels/4),\n",
        "               padding=\"same\",kernel_initializer=initializer)(out)\n",
        "    y1 = relu_bn(y1)\n",
        "    \n",
        "    y1 = Conv2D(kernel_size=3,\n",
        "               strides=1,\n",
        "               filters=int(kernels/4),\n",
        "               dilation_rate=dilation,\n",
        "               padding=\"same\",kernel_initializer=initializer)(y1)\n",
        "    y1 = relu_bn(y1)\n",
        "    \n",
        "    y1 = Conv2D(kernel_size=1,\n",
        "               strides= 1,\n",
        "               filters=kernels,\n",
        "               padding=\"same\",kernel_initializer=initializer)(y1)\n",
        "    y1 = relu_bn(y1)\n",
        "    \n",
        "    out1 = Add()([out, y1])   \n",
        "\n",
        "    return out1\n",
        "\n",
        "def create_net():\n",
        "    \n",
        "    inputs = Input(shape=(32,32,1))\n",
        "    \n",
        "    t = Conv2D(kernel_size=3,\n",
        "               strides=2,\n",
        "               filters=64,\n",
        "               padding=\"valid\",kernel_initializer=initializer)(inputs)\n",
        "    t = relu_bn(t)\n",
        "    \n",
        "    t = Conv2D(kernel_size=3,\n",
        "               strides=2,\n",
        "               filters=128,\n",
        "               padding=\"valid\",kernel_initializer=initializer)(t)\n",
        "    t = relu_bn(t)\n",
        "    \n",
        "    t = bottleneck(t,kernels=128,dilation=2)\n",
        "    \n",
        "    t = Conv2D(kernel_size=3,\n",
        "               strides=2,\n",
        "               filters=256,\n",
        "               padding=\"valid\",kernel_initializer=initializer)(t)\n",
        "    t = relu_bn(t)\n",
        "    \n",
        "    t = bottleneck(t,kernels=256,dilation=4)\n",
        "    \n",
        "    \n",
        "    t = Conv2D(kernel_size=3,\n",
        "               strides=2,\n",
        "               filters=128,\n",
        "               padding=\"same\",kernel_initializer=initializer)(t)\n",
        "    t = relu_bn(t)\n",
        "\n",
        "    t = Flatten()(t)\n",
        "    outputs = Dense(10, activation='softmax')(t)\n",
        "    \n",
        "    model = Model(inputs, outputs)\n",
        "    \n",
        "    model.compile(\n",
        "        optimizer=keras.optimizers.Adam(learning_rate=0.005),\n",
        "        loss='sparse_categorical_crossentropy',\n",
        "        metrics=['accuracy']\n",
        "    )\n",
        "\n",
        "    return model\n"
      ],
      "execution_count": null,
      "outputs": []
    },
    {
      "cell_type": "code",
      "metadata": {
        "id": "n5FvY6uXOyRQ",
        "colab": {
          "base_uri": "https://localhost:8080/"
        },
        "outputId": "9d298e00-49b8-432a-897b-99a51e94ef6a"
      },
      "source": [
        "net = create_net()\n",
        "print(net.summary())"
      ],
      "execution_count": null,
      "outputs": [
        {
          "output_type": "stream",
          "text": [
            "Model: \"functional_1\"\n",
            "__________________________________________________________________________________________________\n",
            "Layer (type)                    Output Shape         Param #     Connected to                     \n",
            "==================================================================================================\n",
            "input_1 (InputLayer)            [(None, 32, 32, 1)]  0                                            \n",
            "__________________________________________________________________________________________________\n",
            "conv2d (Conv2D)                 (None, 15, 15, 64)   640         input_1[0][0]                    \n",
            "__________________________________________________________________________________________________\n",
            "re_lu (ReLU)                    (None, 15, 15, 64)   0           conv2d[0][0]                     \n",
            "__________________________________________________________________________________________________\n",
            "batch_normalization (BatchNorma (None, 15, 15, 64)   256         re_lu[0][0]                      \n",
            "__________________________________________________________________________________________________\n",
            "conv2d_1 (Conv2D)               (None, 7, 7, 128)    73856       batch_normalization[0][0]        \n",
            "__________________________________________________________________________________________________\n",
            "re_lu_1 (ReLU)                  (None, 7, 7, 128)    0           conv2d_1[0][0]                   \n",
            "__________________________________________________________________________________________________\n",
            "batch_normalization_1 (BatchNor (None, 7, 7, 128)    512         re_lu_1[0][0]                    \n",
            "__________________________________________________________________________________________________\n",
            "conv2d_2 (Conv2D)               (None, 7, 7, 32)     4128        batch_normalization_1[0][0]      \n",
            "__________________________________________________________________________________________________\n",
            "re_lu_2 (ReLU)                  (None, 7, 7, 32)     0           conv2d_2[0][0]                   \n",
            "__________________________________________________________________________________________________\n",
            "batch_normalization_2 (BatchNor (None, 7, 7, 32)     128         re_lu_2[0][0]                    \n",
            "__________________________________________________________________________________________________\n",
            "conv2d_3 (Conv2D)               (None, 7, 7, 32)     9248        batch_normalization_2[0][0]      \n",
            "__________________________________________________________________________________________________\n",
            "re_lu_3 (ReLU)                  (None, 7, 7, 32)     0           conv2d_3[0][0]                   \n",
            "__________________________________________________________________________________________________\n",
            "batch_normalization_3 (BatchNor (None, 7, 7, 32)     128         re_lu_3[0][0]                    \n",
            "__________________________________________________________________________________________________\n",
            "conv2d_4 (Conv2D)               (None, 7, 7, 128)    4224        batch_normalization_3[0][0]      \n",
            "__________________________________________________________________________________________________\n",
            "re_lu_4 (ReLU)                  (None, 7, 7, 128)    0           conv2d_4[0][0]                   \n",
            "__________________________________________________________________________________________________\n",
            "batch_normalization_4 (BatchNor (None, 7, 7, 128)    512         re_lu_4[0][0]                    \n",
            "__________________________________________________________________________________________________\n",
            "add (Add)                       (None, 7, 7, 128)    0           batch_normalization_1[0][0]      \n",
            "                                                                 batch_normalization_4[0][0]      \n",
            "__________________________________________________________________________________________________\n",
            "conv2d_5 (Conv2D)               (None, 7, 7, 32)     4128        add[0][0]                        \n",
            "__________________________________________________________________________________________________\n",
            "re_lu_5 (ReLU)                  (None, 7, 7, 32)     0           conv2d_5[0][0]                   \n",
            "__________________________________________________________________________________________________\n",
            "batch_normalization_5 (BatchNor (None, 7, 7, 32)     128         re_lu_5[0][0]                    \n",
            "__________________________________________________________________________________________________\n",
            "conv2d_6 (Conv2D)               (None, 7, 7, 32)     9248        batch_normalization_5[0][0]      \n",
            "__________________________________________________________________________________________________\n",
            "re_lu_6 (ReLU)                  (None, 7, 7, 32)     0           conv2d_6[0][0]                   \n",
            "__________________________________________________________________________________________________\n",
            "batch_normalization_6 (BatchNor (None, 7, 7, 32)     128         re_lu_6[0][0]                    \n",
            "__________________________________________________________________________________________________\n",
            "conv2d_7 (Conv2D)               (None, 7, 7, 128)    4224        batch_normalization_6[0][0]      \n",
            "__________________________________________________________________________________________________\n",
            "re_lu_7 (ReLU)                  (None, 7, 7, 128)    0           conv2d_7[0][0]                   \n",
            "__________________________________________________________________________________________________\n",
            "batch_normalization_7 (BatchNor (None, 7, 7, 128)    512         re_lu_7[0][0]                    \n",
            "__________________________________________________________________________________________________\n",
            "add_1 (Add)                     (None, 7, 7, 128)    0           add[0][0]                        \n",
            "                                                                 batch_normalization_7[0][0]      \n",
            "__________________________________________________________________________________________________\n",
            "conv2d_8 (Conv2D)               (None, 3, 3, 256)    295168      add_1[0][0]                      \n",
            "__________________________________________________________________________________________________\n",
            "re_lu_8 (ReLU)                  (None, 3, 3, 256)    0           conv2d_8[0][0]                   \n",
            "__________________________________________________________________________________________________\n",
            "batch_normalization_8 (BatchNor (None, 3, 3, 256)    1024        re_lu_8[0][0]                    \n",
            "__________________________________________________________________________________________________\n",
            "conv2d_9 (Conv2D)               (None, 3, 3, 64)     16448       batch_normalization_8[0][0]      \n",
            "__________________________________________________________________________________________________\n",
            "re_lu_9 (ReLU)                  (None, 3, 3, 64)     0           conv2d_9[0][0]                   \n",
            "__________________________________________________________________________________________________\n",
            "batch_normalization_9 (BatchNor (None, 3, 3, 64)     256         re_lu_9[0][0]                    \n",
            "__________________________________________________________________________________________________\n",
            "conv2d_10 (Conv2D)              (None, 3, 3, 64)     36928       batch_normalization_9[0][0]      \n",
            "__________________________________________________________________________________________________\n",
            "re_lu_10 (ReLU)                 (None, 3, 3, 64)     0           conv2d_10[0][0]                  \n",
            "__________________________________________________________________________________________________\n",
            "batch_normalization_10 (BatchNo (None, 3, 3, 64)     256         re_lu_10[0][0]                   \n",
            "__________________________________________________________________________________________________\n",
            "conv2d_11 (Conv2D)              (None, 3, 3, 256)    16640       batch_normalization_10[0][0]     \n",
            "__________________________________________________________________________________________________\n",
            "re_lu_11 (ReLU)                 (None, 3, 3, 256)    0           conv2d_11[0][0]                  \n",
            "__________________________________________________________________________________________________\n",
            "batch_normalization_11 (BatchNo (None, 3, 3, 256)    1024        re_lu_11[0][0]                   \n",
            "__________________________________________________________________________________________________\n",
            "add_2 (Add)                     (None, 3, 3, 256)    0           batch_normalization_8[0][0]      \n",
            "                                                                 batch_normalization_11[0][0]     \n",
            "__________________________________________________________________________________________________\n",
            "conv2d_12 (Conv2D)              (None, 3, 3, 64)     16448       add_2[0][0]                      \n",
            "__________________________________________________________________________________________________\n",
            "re_lu_12 (ReLU)                 (None, 3, 3, 64)     0           conv2d_12[0][0]                  \n",
            "__________________________________________________________________________________________________\n",
            "batch_normalization_12 (BatchNo (None, 3, 3, 64)     256         re_lu_12[0][0]                   \n",
            "__________________________________________________________________________________________________\n",
            "conv2d_13 (Conv2D)              (None, 3, 3, 64)     36928       batch_normalization_12[0][0]     \n",
            "__________________________________________________________________________________________________\n",
            "re_lu_13 (ReLU)                 (None, 3, 3, 64)     0           conv2d_13[0][0]                  \n",
            "__________________________________________________________________________________________________\n",
            "batch_normalization_13 (BatchNo (None, 3, 3, 64)     256         re_lu_13[0][0]                   \n",
            "__________________________________________________________________________________________________\n",
            "conv2d_14 (Conv2D)              (None, 3, 3, 256)    16640       batch_normalization_13[0][0]     \n",
            "__________________________________________________________________________________________________\n",
            "re_lu_14 (ReLU)                 (None, 3, 3, 256)    0           conv2d_14[0][0]                  \n",
            "__________________________________________________________________________________________________\n",
            "batch_normalization_14 (BatchNo (None, 3, 3, 256)    1024        re_lu_14[0][0]                   \n",
            "__________________________________________________________________________________________________\n",
            "add_3 (Add)                     (None, 3, 3, 256)    0           add_2[0][0]                      \n",
            "                                                                 batch_normalization_14[0][0]     \n",
            "__________________________________________________________________________________________________\n",
            "conv2d_15 (Conv2D)              (None, 2, 2, 128)    295040      add_3[0][0]                      \n",
            "__________________________________________________________________________________________________\n",
            "re_lu_15 (ReLU)                 (None, 2, 2, 128)    0           conv2d_15[0][0]                  \n",
            "__________________________________________________________________________________________________\n",
            "batch_normalization_15 (BatchNo (None, 2, 2, 128)    512         re_lu_15[0][0]                   \n",
            "__________________________________________________________________________________________________\n",
            "flatten (Flatten)               (None, 512)          0           batch_normalization_15[0][0]     \n",
            "__________________________________________________________________________________________________\n",
            "dense (Dense)                   (None, 10)           5130        flatten[0][0]                    \n",
            "==================================================================================================\n",
            "Total params: 851,978\n",
            "Trainable params: 848,522\n",
            "Non-trainable params: 3,456\n",
            "__________________________________________________________________________________________________\n",
            "None\n"
          ],
          "name": "stdout"
        }
      ]
    },
    {
      "cell_type": "markdown",
      "metadata": {
        "id": "4fZn7ljv6GwL"
      },
      "source": [
        "Train the model"
      ]
    },
    {
      "cell_type": "code",
      "metadata": {
        "id": "AuKnbfejO2DG",
        "colab": {
          "base_uri": "https://localhost:8080/"
        },
        "outputId": "46f25d0d-a84c-4f3c-828a-8078a125e4fd"
      },
      "source": [
        "net = create_net()\n",
        "callback = tf.keras.callbacks.LearningRateScheduler(scheduler)\n",
        "a=net.fit(X_train,Y_train,batch_size=8,epochs=20,validation_split=0.1,shuffle=True,callbacks=[callback])"
      ],
      "execution_count": null,
      "outputs": [
        {
          "output_type": "stream",
          "text": [
            "Epoch 1/20\n",
            "288/288 [==============================] - 4s 12ms/step - loss: 1.3379 - accuracy: 0.6159 - val_loss: 1.1081 - val_accuracy: 0.7500\n",
            "Epoch 2/20\n",
            "288/288 [==============================] - 3s 11ms/step - loss: 0.3723 - accuracy: 0.8828 - val_loss: 0.3038 - val_accuracy: 0.9062\n",
            "Epoch 3/20\n",
            "288/288 [==============================] - 3s 11ms/step - loss: 0.1981 - accuracy: 0.9293 - val_loss: 0.0994 - val_accuracy: 0.9766\n",
            "Epoch 4/20\n",
            "288/288 [==============================] - 3s 11ms/step - loss: 0.0619 - accuracy: 0.9813 - val_loss: 0.0709 - val_accuracy: 0.9727\n",
            "Epoch 5/20\n",
            "288/288 [==============================] - 3s 11ms/step - loss: 0.1279 - accuracy: 0.9627 - val_loss: 0.2481 - val_accuracy: 0.9414\n",
            "Epoch 6/20\n",
            "288/288 [==============================] - 3s 11ms/step - loss: 0.1452 - accuracy: 0.9575 - val_loss: 0.4160 - val_accuracy: 0.9023\n",
            "Epoch 7/20\n",
            "288/288 [==============================] - 3s 11ms/step - loss: 0.0336 - accuracy: 0.9887 - val_loss: 0.0532 - val_accuracy: 0.9844\n",
            "Epoch 8/20\n",
            "288/288 [==============================] - 3s 11ms/step - loss: 0.0218 - accuracy: 0.9939 - val_loss: 0.0448 - val_accuracy: 0.9883\n",
            "Epoch 9/20\n",
            "288/288 [==============================] - 3s 11ms/step - loss: 0.0636 - accuracy: 0.9822 - val_loss: 0.1246 - val_accuracy: 0.9570\n",
            "Epoch 10/20\n",
            "288/288 [==============================] - 3s 11ms/step - loss: 0.1489 - accuracy: 0.9631 - val_loss: 0.4141 - val_accuracy: 0.8828\n",
            "Epoch 11/20\n",
            "288/288 [==============================] - 3s 11ms/step - loss: 0.0549 - accuracy: 0.9839 - val_loss: 0.0565 - val_accuracy: 0.9844\n",
            "Epoch 12/20\n",
            "288/288 [==============================] - 3s 11ms/step - loss: 0.0661 - accuracy: 0.9800 - val_loss: 0.0471 - val_accuracy: 0.9805\n",
            "Epoch 13/20\n",
            "288/288 [==============================] - 3s 11ms/step - loss: 0.0207 - accuracy: 0.9952 - val_loss: 0.0302 - val_accuracy: 0.9922\n",
            "Epoch 14/20\n",
            "288/288 [==============================] - 3s 11ms/step - loss: 0.0026 - accuracy: 0.9991 - val_loss: 0.0158 - val_accuracy: 0.9961\n",
            "Epoch 15/20\n",
            "288/288 [==============================] - 3s 11ms/step - loss: 0.0025 - accuracy: 0.9987 - val_loss: 0.0075 - val_accuracy: 0.9961\n",
            "Epoch 16/20\n",
            "288/288 [==============================] - 3s 11ms/step - loss: 3.4170e-04 - accuracy: 1.0000 - val_loss: 0.0056 - val_accuracy: 1.0000\n",
            "Epoch 17/20\n",
            "288/288 [==============================] - 3s 11ms/step - loss: 0.0017 - accuracy: 0.9996 - val_loss: 0.0055 - val_accuracy: 0.9961\n",
            "Epoch 18/20\n",
            "288/288 [==============================] - 3s 11ms/step - loss: 0.2043 - accuracy: 0.9457 - val_loss: 0.1022 - val_accuracy: 0.9766\n",
            "Epoch 19/20\n",
            "288/288 [==============================] - 3s 11ms/step - loss: 0.0515 - accuracy: 0.9822 - val_loss: 0.0558 - val_accuracy: 0.9883\n",
            "Epoch 20/20\n",
            "288/288 [==============================] - 3s 11ms/step - loss: 0.0165 - accuracy: 0.9948 - val_loss: 0.0018 - val_accuracy: 1.0000\n"
          ],
          "name": "stdout"
        }
      ]
    },
    {
      "cell_type": "markdown",
      "metadata": {
        "id": "V5I4nBUE6OY4"
      },
      "source": [
        "Evaluate the model"
      ]
    },
    {
      "cell_type": "code",
      "metadata": {
        "id": "GfS3vi35O4ox",
        "colab": {
          "base_uri": "https://localhost:8080/"
        },
        "outputId": "e2c6faf1-7f65-43ca-92ca-a0405e1325b4"
      },
      "source": [
        "print(\"Evaluate on test data\")\n",
        "results = net.evaluate(X_test, Y_test, batch_size=1)\n",
        "print(\"test loss, test acc:\", results)"
      ],
      "execution_count": null,
      "outputs": [
        {
          "output_type": "stream",
          "text": [
            "Evaluate on test data\n",
            "640/640 [==============================] - 3s 5ms/step - loss: 0.0143 - accuracy: 0.9953\n",
            "test loss, test acc: [0.014308418147265911, 0.995312511920929]\n"
          ],
          "name": "stdout"
        }
      ]
    },
    {
      "cell_type": "markdown",
      "metadata": {
        "id": "uO48JIIf6WVn"
      },
      "source": [
        "Model accuracy and loss plot"
      ]
    },
    {
      "cell_type": "code",
      "metadata": {
        "id": "XJdFLXMNfnB1",
        "colab": {
          "base_uri": "https://localhost:8080/",
          "height": 591
        },
        "outputId": "06b906a4-6059-4db2-9ea7-f322beb9f5c1"
      },
      "source": [
        "history=a\n",
        "plt.plot(history.history['accuracy'])\n",
        "plt.plot(history.history['val_accuracy'])\n",
        "plt.title('Proposed model accuracy',fontsize=18)\n",
        "plt.ylabel('accuracy',fontsize=16)\n",
        "plt.xlabel('epoch',fontsize=16)\n",
        "plt.xticks(np.arange(0, 20, 2.0))\n",
        "plt.legend(['train', 'val'], loc='lower right')\n",
        "plt.show()\n",
        "# summarize history for loss\n",
        "plt.plot(history.history['loss'])\n",
        "plt.plot(history.history['val_loss'])\n",
        "plt.title('Proposed model loss', fontsize=18)\n",
        "plt.ylabel('loss', fontsize=16)\n",
        "plt.xlabel('epoch', fontsize=16)\n",
        "plt.xticks(np.arange(0, 20, 2.0))\n",
        "plt.legend(['train', 'val'], loc='upper right')\n",
        "plt.show()"
      ],
      "execution_count": null,
      "outputs": [
        {
          "output_type": "display_data",
          "data": {
            "image/png": "[encoded data removed]",
            "text/plain": [
              "<Figure size 432x288 with 1 Axes>"
            ]
          },
          "metadata": {
            "tags": [],
            "needs_background": "light"
          }
        },
        {
          "output_type": "display_data",
          "data": {
            "image/png": "[encoded data removed]",
            "text/plain": [
              "<Figure size 432x288 with 1 Axes>"
            ]
          },
          "metadata": {
            "tags": [],
            "needs_background": "light"
          }
        }
      ]
    },
    {
      "cell_type": "markdown",
      "metadata": {
        "id": "JOF7FPNQ6kgL"
      },
      "source": [
        "To save a keras model"
      ]
    },
    {
      "cell_type": "code",
      "metadata": {
        "id": "EX1B2mWkO_cl"
      },
      "source": [
        "net.save('Path to save .h5 file')"
      ],
      "execution_count": null,
      "outputs": []
    },
    {
      "cell_type": "markdown",
      "metadata": {
        "id": "Hf9EsV476aGQ"
      },
      "source": [
        "Load a trained model"
      ]
    },
    {
      "cell_type": "code",
      "metadata": {
        "id": "KMCdkinH6SzQ"
      },
      "source": [
        "import pandas as pd\n",
        "import tensorflow as tf \n",
        "import matplotlib.pyplot as plt\n",
        "\n",
        "import seaborn as sns\n",
        "from tensorflow import keras\n",
        "moe=keras.models.load_model('Path where trained .h5 file is stored')"
      ],
      "execution_count": null,
      "outputs": []
    },
    {
      "cell_type": "code",
      "metadata": {
        "id": "qyQRzm-R6ViC",
        "colab": {
          "base_uri": "https://localhost:8080/"
        },
        "outputId": "be56ec43-bd5c-4b0e-fc45-704bd58916a1"
      },
      "source": [
        "moe.summary()"
      ],
      "execution_count": null,
      "outputs": [
        {
          "output_type": "stream",
          "text": [
            "Model: \"functional_11\"\n",
            "__________________________________________________________________________________________________\n",
            "Layer (type)                    Output Shape         Param #     Connected to                     \n",
            "==================================================================================================\n",
            "input_7 (InputLayer)            [(None, 32, 32, 1)]  0                                            \n",
            "__________________________________________________________________________________________________\n",
            "conv2d_95 (Conv2D)              (None, 15, 15, 64)   640         input_7[0][0]                    \n",
            "__________________________________________________________________________________________________\n",
            "re_lu_94 (ReLU)                 (None, 15, 15, 64)   0           conv2d_95[0][0]                  \n",
            "__________________________________________________________________________________________________\n",
            "batch_normalization_94 (BatchNo (None, 15, 15, 64)   256         re_lu_94[0][0]                   \n",
            "__________________________________________________________________________________________________\n",
            "conv2d_96 (Conv2D)              (None, 7, 7, 128)    73856       batch_normalization_94[0][0]     \n",
            "__________________________________________________________________________________________________\n",
            "re_lu_95 (ReLU)                 (None, 7, 7, 128)    0           conv2d_96[0][0]                  \n",
            "__________________________________________________________________________________________________\n",
            "batch_normalization_95 (BatchNo (None, 7, 7, 128)    512         re_lu_95[0][0]                   \n",
            "__________________________________________________________________________________________________\n",
            "conv2d_97 (Conv2D)              (None, 7, 7, 32)     4128        batch_normalization_95[0][0]     \n",
            "__________________________________________________________________________________________________\n",
            "re_lu_96 (ReLU)                 (None, 7, 7, 32)     0           conv2d_97[0][0]                  \n",
            "__________________________________________________________________________________________________\n",
            "batch_normalization_96 (BatchNo (None, 7, 7, 32)     128         re_lu_96[0][0]                   \n",
            "__________________________________________________________________________________________________\n",
            "conv2d_98 (Conv2D)              (None, 7, 7, 32)     9248        batch_normalization_96[0][0]     \n",
            "__________________________________________________________________________________________________\n",
            "re_lu_97 (ReLU)                 (None, 7, 7, 32)     0           conv2d_98[0][0]                  \n",
            "__________________________________________________________________________________________________\n",
            "batch_normalization_97 (BatchNo (None, 7, 7, 32)     128         re_lu_97[0][0]                   \n",
            "__________________________________________________________________________________________________\n",
            "conv2d_99 (Conv2D)              (None, 7, 7, 128)    4224        batch_normalization_97[0][0]     \n",
            "__________________________________________________________________________________________________\n",
            "re_lu_98 (ReLU)                 (None, 7, 7, 128)    0           conv2d_99[0][0]                  \n",
            "__________________________________________________________________________________________________\n",
            "batch_normalization_98 (BatchNo (None, 7, 7, 128)    512         re_lu_98[0][0]                   \n",
            "__________________________________________________________________________________________________\n",
            "add_24 (Add)                    (None, 7, 7, 128)    0           batch_normalization_95[0][0]     \n",
            "                                                                 batch_normalization_98[0][0]     \n",
            "__________________________________________________________________________________________________\n",
            "conv2d_100 (Conv2D)             (None, 7, 7, 32)     4128        add_24[0][0]                     \n",
            "__________________________________________________________________________________________________\n",
            "re_lu_99 (ReLU)                 (None, 7, 7, 32)     0           conv2d_100[0][0]                 \n",
            "__________________________________________________________________________________________________\n",
            "batch_normalization_99 (BatchNo (None, 7, 7, 32)     128         re_lu_99[0][0]                   \n",
            "__________________________________________________________________________________________________\n",
            "conv2d_101 (Conv2D)             (None, 7, 7, 32)     9248        batch_normalization_99[0][0]     \n",
            "__________________________________________________________________________________________________\n",
            "re_lu_100 (ReLU)                (None, 7, 7, 32)     0           conv2d_101[0][0]                 \n",
            "__________________________________________________________________________________________________\n",
            "batch_normalization_100 (BatchN (None, 7, 7, 32)     128         re_lu_100[0][0]                  \n",
            "__________________________________________________________________________________________________\n",
            "conv2d_102 (Conv2D)             (None, 7, 7, 128)    4224        batch_normalization_100[0][0]    \n",
            "__________________________________________________________________________________________________\n",
            "re_lu_101 (ReLU)                (None, 7, 7, 128)    0           conv2d_102[0][0]                 \n",
            "__________________________________________________________________________________________________\n",
            "batch_normalization_101 (BatchN (None, 7, 7, 128)    512         re_lu_101[0][0]                  \n",
            "__________________________________________________________________________________________________\n",
            "add_25 (Add)                    (None, 7, 7, 128)    0           add_24[0][0]                     \n",
            "                                                                 batch_normalization_101[0][0]    \n",
            "__________________________________________________________________________________________________\n",
            "conv2d_103 (Conv2D)             (None, 3, 3, 256)    295168      add_25[0][0]                     \n",
            "__________________________________________________________________________________________________\n",
            "re_lu_102 (ReLU)                (None, 3, 3, 256)    0           conv2d_103[0][0]                 \n",
            "__________________________________________________________________________________________________\n",
            "batch_normalization_102 (BatchN (None, 3, 3, 256)    1024        re_lu_102[0][0]                  \n",
            "__________________________________________________________________________________________________\n",
            "conv2d_104 (Conv2D)             (None, 3, 3, 64)     16448       batch_normalization_102[0][0]    \n",
            "__________________________________________________________________________________________________\n",
            "re_lu_103 (ReLU)                (None, 3, 3, 64)     0           conv2d_104[0][0]                 \n",
            "__________________________________________________________________________________________________\n",
            "batch_normalization_103 (BatchN (None, 3, 3, 64)     256         re_lu_103[0][0]                  \n",
            "__________________________________________________________________________________________________\n",
            "conv2d_105 (Conv2D)             (None, 3, 3, 64)     36928       batch_normalization_103[0][0]    \n",
            "__________________________________________________________________________________________________\n",
            "re_lu_104 (ReLU)                (None, 3, 3, 64)     0           conv2d_105[0][0]                 \n",
            "__________________________________________________________________________________________________\n",
            "batch_normalization_104 (BatchN (None, 3, 3, 64)     256         re_lu_104[0][0]                  \n",
            "__________________________________________________________________________________________________\n",
            "conv2d_106 (Conv2D)             (None, 3, 3, 256)    16640       batch_normalization_104[0][0]    \n",
            "__________________________________________________________________________________________________\n",
            "re_lu_105 (ReLU)                (None, 3, 3, 256)    0           conv2d_106[0][0]                 \n",
            "__________________________________________________________________________________________________\n",
            "batch_normalization_105 (BatchN (None, 3, 3, 256)    1024        re_lu_105[0][0]                  \n",
            "__________________________________________________________________________________________________\n",
            "add_26 (Add)                    (None, 3, 3, 256)    0           batch_normalization_102[0][0]    \n",
            "                                                                 batch_normalization_105[0][0]    \n",
            "__________________________________________________________________________________________________\n",
            "conv2d_107 (Conv2D)             (None, 3, 3, 64)     16448       add_26[0][0]                     \n",
            "__________________________________________________________________________________________________\n",
            "re_lu_106 (ReLU)                (None, 3, 3, 64)     0           conv2d_107[0][0]                 \n",
            "__________________________________________________________________________________________________\n",
            "batch_normalization_106 (BatchN (None, 3, 3, 64)     256         re_lu_106[0][0]                  \n",
            "__________________________________________________________________________________________________\n",
            "conv2d_108 (Conv2D)             (None, 3, 3, 64)     36928       batch_normalization_106[0][0]    \n",
            "__________________________________________________________________________________________________\n",
            "re_lu_107 (ReLU)                (None, 3, 3, 64)     0           conv2d_108[0][0]                 \n",
            "__________________________________________________________________________________________________\n",
            "batch_normalization_107 (BatchN (None, 3, 3, 64)     256         re_lu_107[0][0]                  \n",
            "__________________________________________________________________________________________________\n",
            "conv2d_109 (Conv2D)             (None, 3, 3, 256)    16640       batch_normalization_107[0][0]    \n",
            "__________________________________________________________________________________________________\n",
            "re_lu_108 (ReLU)                (None, 3, 3, 256)    0           conv2d_109[0][0]                 \n",
            "__________________________________________________________________________________________________\n",
            "batch_normalization_108 (BatchN (None, 3, 3, 256)    1024        re_lu_108[0][0]                  \n",
            "__________________________________________________________________________________________________\n",
            "add_27 (Add)                    (None, 3, 3, 256)    0           add_26[0][0]                     \n",
            "                                                                 batch_normalization_108[0][0]    \n",
            "__________________________________________________________________________________________________\n",
            "conv2d_110 (Conv2D)             (None, 2, 2, 128)    295040      add_27[0][0]                     \n",
            "__________________________________________________________________________________________________\n",
            "re_lu_109 (ReLU)                (None, 2, 2, 128)    0           conv2d_110[0][0]                 \n",
            "__________________________________________________________________________________________________\n",
            "batch_normalization_109 (BatchN (None, 2, 2, 128)    512         re_lu_109[0][0]                  \n",
            "__________________________________________________________________________________________________\n",
            "flatten_5 (Flatten)             (None, 512)          0           batch_normalization_109[0][0]    \n",
            "__________________________________________________________________________________________________\n",
            "dense_5 (Dense)                 (None, 10)           5130        flatten_5[0][0]                  \n",
            "==================================================================================================\n",
            "Total params: 851,978\n",
            "Trainable params: 848,522\n",
            "Non-trainable params: 3,456\n",
            "__________________________________________________________________________________________________\n"
          ],
          "name": "stdout"
        }
      ]
    },
    {
      "cell_type": "markdown",
      "metadata": {
        "id": "HJ0N-Hdd6gri"
      },
      "source": [
        "Confusion matrix of loaded trained model"
      ]
    },
    {
      "cell_type": "code",
      "metadata": {
        "id": "5qhAAMcaO73w",
        "colab": {
          "base_uri": "https://localhost:8080/",
          "height": 902
        },
        "outputId": "7fbb1bc8-dc90-4404-f8f9-be1ddd37feb0"
      },
      "source": [
        "import pandas as pd\n",
        "import tensorflow as tf \n",
        "import matplotlib.pyplot as plt\n",
        "\n",
        "import seaborn as sns\n",
        "from tensorflow import keras\n",
        "\n",
        "y_=moe.predict(X_test)\n",
        "y_pred=np.argmax(tf.nn.softmax(y_),axis=1)\n",
        "\n",
        "con_mat = tf.math.confusion_matrix(labels=Y_test, predictions=y_pred).numpy()\n",
        "\n",
        "con_mat_norm = np.around(con_mat.astype('float') / con_mat.sum(axis=1)[:, np.newaxis], decimals=2)\n",
        "classes=['0','1','2','3','4','5','6','7','8','9']\n",
        "con_mat_df = pd.DataFrame(con_mat_norm,\n",
        "                     index = classes, \n",
        "                     columns = classes)\n",
        "\n",
        "\n",
        "figure = plt.figure(figsize=(8, 8))\n",
        "sns.heatmap(con_mat_df, annot=True,cmap=plt.cm.Blues)\n",
        "plt.tight_layout()\n",
        "plt.ylabel('True label')\n",
        "plt.xlabel('Predicted label')\n",
        "plt.show()\n",
        "\n",
        "from sklearn.metrics import classification_report\n",
        "print(classification_report(Y_test, y_pred))\n",
        "from sklearn.metrics import accuracy_score\n",
        "accuracy_score(Y_test, y_pred)"
      ],
      "execution_count": null,
      "outputs": [
        {
          "output_type": "display_data",
          "data": {
            "image/png": "[encoded data removed]",
            "text/plain": [
              "<Figure size 576x576 with 2 Axes>"
            ]
          },
          "metadata": {
            "tags": [],
            "needs_background": "light"
          }
        },
        {
          "output_type": "stream",
          "text": [
            "              precision    recall  f1-score   support\n",
            "\n",
            "         0.0       1.00      0.98      0.99        64\n",
            "         1.0       1.00      1.00      1.00        64\n",
            "         2.0       0.98      1.00      0.99        64\n",
            "         3.0       1.00      1.00      1.00        64\n",
            "         4.0       0.98      0.98      0.98        64\n",
            "         5.0       1.00      0.98      0.99        64\n",
            "         6.0       1.00      1.00      1.00        64\n",
            "         7.0       0.98      1.00      0.99        64\n",
            "         8.0       1.00      1.00      1.00        64\n",
            "         9.0       1.00      1.00      1.00        64\n",
            "\n",
            "    accuracy                           1.00       640\n",
            "   macro avg       1.00      1.00      1.00       640\n",
            "weighted avg       1.00      1.00      1.00       640\n",
            "\n"
          ],
          "name": "stdout"
        },
        {
          "output_type": "execute_result",
          "data": {
            "text/plain": [
              "0.9953125"
            ]
          },
          "metadata": {
            "tags": []
          },
          "execution_count": 29
        }
      ]
    },
    {
      "cell_type": "markdown",
      "metadata": {
        "id": "GRDWisU96nu-"
      },
      "source": [
        "To convert a keras model to tflite model"
      ]
    },
    {
      "cell_type": "code",
      "metadata": {
        "id": "DRJQlBY-PEos"
      },
      "source": [
        "import tensorflow as tf\n",
        "from tensorflow import lite\n",
        "from tensorflow import keras\n",
        "mode = keras.models.load_model('path to model .h5 file')\n",
        "#mode.save('/gdrive/My Drive/final_model_.h5')\n",
        "converter = lite.TFLiteConverter.from_keras_model(mode)\n",
        "tflite_model = converter.convert()\n",
        "\n",
        "open('provide file name and path to store tflite model', 'wb').write(tflite_model)"
      ],
      "execution_count": null,
      "outputs": []
    }
  ]
}
